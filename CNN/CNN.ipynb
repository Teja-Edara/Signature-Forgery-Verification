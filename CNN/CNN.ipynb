{
 "cells": [
  {
   "cell_type": "markdown",
   "metadata": {
    "id": "5M5Q-Cn8XwFP"
   },
   "source": [
    "**CNN**"
   ]
  },
  {
   "cell_type": "markdown",
   "metadata": {
    "id": "5M5Q-Cn8XwFP"
   },
   "source": [
    "**Dataset**\n",
    "\n",
    "Dataset used is the CEDAR Signature Dataset \n",
    "\n",
    "Dataset Link :     [CEDAR](http://www.cedar.buffalo.edu/NIJ/data/signatures.rar)"
   ]
  },
  {
   "cell_type": "code",
   "execution_count": 1,
   "metadata": {
    "colab": {
     "base_uri": "https://localhost:8080/"
    },
    "executionInfo": {
     "elapsed": 3923,
     "status": "ok",
     "timestamp": 1654468057606,
     "user": {
      "displayName": "Teja E",
      "userId": "07207002669926772768"
     },
     "user_tz": -330
    },
    "id": "a6oOp9OzHdOA",
    "outputId": "961f4283-ad01-442d-be60-188d1902e422"
   },
   "outputs": [
    {
     "name": "stdout",
     "output_type": "stream",
     "text": [
      "--2022-06-08 16:22:56--  http://www.cedar.buffalo.edu/NIJ/data/signatures.rar\n",
      "Resolving www.cedar.buffalo.edu (www.cedar.buffalo.edu)... 128.205.33.100\n",
      "Connecting to www.cedar.buffalo.edu (www.cedar.buffalo.edu)|128.205.33.100|:80... connected.\n",
      "HTTP request sent, awaiting response... 301 Moved Permanently\n",
      "Location: https://cedar.buffalo.edu/NIJ/data/signatures.rar [following]\n",
      "--2022-06-08 16:22:57--  https://cedar.buffalo.edu/NIJ/data/signatures.rar\n",
      "Resolving cedar.buffalo.edu (cedar.buffalo.edu)... 128.205.33.100\n",
      "Connecting to cedar.buffalo.edu (cedar.buffalo.edu)|128.205.33.100|:443... connected.\n",
      "HTTP request sent, awaiting response... 304 Not Modified\n",
      "File ‘./signatures.rar’ not modified on server. Omitting download.\n",
      "\n"
     ]
    }
   ],
   "source": [
    "!wget -N -P . http://www.cedar.buffalo.edu/NIJ/data/signatures.rar"
   ]
  },
  {
   "cell_type": "code",
   "execution_count": 2,
   "metadata": {
    "colab": {
     "base_uri": "https://localhost:8080/"
    },
    "executionInfo": {
     "elapsed": 25941,
     "status": "ok",
     "timestamp": 1654468083536,
     "user": {
      "displayName": "Teja E",
      "userId": "07207002669926772768"
     },
     "user_tz": -330
    },
    "id": "yQlV6mUjHfZu",
    "outputId": "d7559e70-3116-47c7-caf4-ea573e7a4eeb"
   },
   "outputs": [],
   "source": [
    "!unrar x -inul signatures.rar"
   ]
  },
  {
   "cell_type": "code",
   "execution_count": 1,
   "metadata": {
    "colab": {
     "base_uri": "https://localhost:8080/"
    },
    "executionInfo": {
     "elapsed": 3035,
     "status": "ok",
     "timestamp": 1654470205321,
     "user": {
      "displayName": "Teja E",
      "userId": "07207002669926772768"
     },
     "user_tz": -330
    },
    "id": "ww0JKHxHEasL",
    "outputId": "3bf6dbb4-4da6-4b14-89e2-efb599996d47"
   },
   "outputs": [
    {
     "name": "stdout",
     "output_type": "stream",
     "text": [
      "2.9.1\n",
      "2.9.0\n",
      "1.4.2\n",
      "4.5.5\n",
      "1.21.5\n"
     ]
    }
   ],
   "source": [
    "import tensorflow\n",
    "import tensorflow as tf\n",
    "from tensorflow import keras\n",
    "import cv2\n",
    "import pandas as pd\n",
    "import numpy as np\n",
    "import matplotlib.pyplot as plt\n",
    "\n",
    "from sklearn.model_selection import train_test_split\n",
    "\n",
    "print(tensorflow.__version__)\n",
    "print(keras.__version__)\n",
    "print(pd.__version__)\n",
    "print(cv2.__version__)\n",
    "print(np.__version__)"
   ]
  },
  {
   "cell_type": "markdown",
   "metadata": {
    "id": "CLher-W8XSCY"
   },
   "source": [
    "**DataFrame Generator**\n",
    "\n",
    "Generates a pandas dataframe with path of the signature samples that are used in this model.\n",
    "\n",
    "Total Samples = Number of Persons * Number of Samples * (2)\n",
    "\n",
    "          Total Samples    = 55 * 24 * 2 = 2640 "
   ]
  },
  {
   "cell_type": "code",
   "execution_count": 2,
   "metadata": {
    "executionInfo": {
     "elapsed": 9,
     "status": "ok",
     "timestamp": 1654470206939,
     "user": {
      "displayName": "Teja E",
      "userId": "07207002669926772768"
     },
     "user_tz": -330
    },
    "id": "EDpdtSJWEi1p"
   },
   "outputs": [],
   "source": [
    "path_org =  'signatures/full_org'\n",
    "path_forg = 'signatures/full_forg'\n",
    "no_persons = 55\n",
    "no_signs = 24\n",
    "\n",
    "def create_df():\n",
    "  org_sign = []\n",
    "  lst_1 =[]\n",
    "  for i in range(1,no_persons+1):\n",
    "    for j in range(1,no_signs+1):\n",
    "      path = (path_org+'/original_'+str(i)+'_'+str(j)+'.png')\n",
    "      org_sign.append(path)\n",
    "      lst_1.append(1)\n",
    "\n",
    "  forg_sign = []\n",
    "  lst_2=[]\n",
    "  for i in range(1,no_persons+1):\n",
    "    for j in range(1,no_signs+1):\n",
    "      path = (path_forg+'/forgeries_'+str(i)+'_'+str(j)+'.png')\n",
    "      forg_sign.append(path)\n",
    "      lst_2.append(0)\n",
    "  \n",
    "  raw_data = {\"input\":[], \"label\":[]}\n",
    "  raw_data[\"input\"]=org_sign + forg_sign\n",
    "  raw_data[\"label\"]=lst_1 + lst_2\n",
    "\n",
    "  df = pd.DataFrame(raw_data, columns = [\"input\",\"label\"])\n",
    "  return df\n"
   ]
  },
  {
   "cell_type": "markdown",
   "metadata": {
    "id": "cApEnWJLaGut"
   },
   "source": [
    "**Dataset Split**\n",
    "\n",
    "Splitting the data into train, validation and test data with a ratio  6:2:2\n",
    "\n",
    "Train data = 0.6 * 2640 = 1584\n",
    "\n",
    "Validation data = 0.4 * 0.5 * 2640 = 528\n",
    "\n",
    "Testing data = 0.4 * 0.5 * 2640 = 528\n",
    "\n"
   ]
  },
  {
   "cell_type": "code",
   "execution_count": 3,
   "metadata": {},
   "outputs": [
    {
     "name": "stdout",
     "output_type": "stream",
     "text": [
      "3168 1056 1056\n",
      "The number of instances in train set 1584\n",
      "The number of instances in validation set 528\n",
      "The number of instances in test set 528\n"
     ]
    }
   ],
   "source": [
    "def train_test_dataset():\n",
    "  data_frame = create_df()\n",
    "  train_set, res_set = train_test_split(data_frame,train_size=0.6,random_state=0)\n",
    "  validation_set, test_set = train_test_split(res_set,train_size=0.5,random_state=0)\n",
    "\n",
    "  return train_set, validation_set, test_set\n",
    "\n",
    "train_set,validation_set, test_set = train_test_dataset()\n",
    "print(train_set.size, validation_set.size, test_set.size)\n",
    "print(\"The number of instances in train set\",train_set.shape[0])\n",
    "print(\"The number of instances in validation set\",validation_set.shape[0])\n",
    "print(\"The number of instances in test set\",test_set.shape[0])\n"
   ]
  },
  {
   "cell_type": "markdown",
   "metadata": {
    "id": "uO1iM9BLcUm5"
   },
   "source": [
    "**Processing The Signatures**\n"
   ]
  },
  {
   "cell_type": "code",
   "execution_count": 4,
   "metadata": {
    "executionInfo": {
     "elapsed": 519,
     "status": "ok",
     "timestamp": 1654470216464,
     "user": {
      "displayName": "Teja E",
      "userId": "07207002669926772768"
     },
     "user_tz": -330
    },
    "id": "KzIVsTeya0O1"
   },
   "outputs": [],
   "source": [
    "def sig_process(inp):\n",
    "  \n",
    "  inp = cv2.resize(inp,(220,155))\n",
    "  inp = cv2.cvtColor(inp, cv2.COLOR_BGR2GRAY)\n",
    "  ret,inp = cv2.threshold(inp, 0, 255, cv2.THRESH_OTSU)\n",
    "  inp = inp/255\n",
    "  inp = inp[:, :, np.newaxis]\n",
    "  inp = np.array(inp)\n",
    "\n",
    "  return inp"
   ]
  },
  {
   "cell_type": "markdown",
   "metadata": {
    "id": "NilYzfY2qN65"
   },
   "source": [
    "**Input Generator for the Model**"
   ]
  },
  {
   "cell_type": "code",
   "execution_count": 5,
   "metadata": {
    "executionInfo": {
     "elapsed": 418,
     "status": "ok",
     "timestamp": 1654470220660,
     "user": {
      "displayName": "Teja E",
      "userId": "07207002669926772768"
     },
     "user_tz": -330
    },
    "id": "hr78qHNjEiq9"
   },
   "outputs": [],
   "source": [
    "class generate(tf.keras.utils.Sequence):\n",
    "    \n",
    "    def __init__(self, df, batch_size, dimension):\n",
    "        self.dimension = dimension\n",
    "        self.batch_size = batch_size\n",
    "        self.df = df\n",
    "        self.labels = df[\"label\"]\n",
    "\n",
    "        self.on_epoch_end()\n",
    "    \n",
    "    def __len__(self):\n",
    "        s_df=self.df.shape[0]\n",
    "        n=np.floor(s_df/self.batch_size)\n",
    "        return int(n)\n",
    "\n",
    "    def __getitem__(self, ind):\n",
    "        batches = self.indices[ind*self.batch_size:(ind+1)*self.batch_size]\n",
    "        items = [self.df.iloc[k] for k in batches]\n",
    "        part1 = self.generator(items)\n",
    "        return part1\n",
    "\n",
    "    def on_epoch_end(self):\n",
    "        self.indices = np.arange(self.df.shape[0])\n",
    "\n",
    "    def generator(self, items):\n",
    "        part_1 = np.empty((self.batch_size, *self.dimension,1))\n",
    "        label = np.empty((self.batch_size), dtype=int)\n",
    "        \n",
    "        for i in range(len(items)):\n",
    "\n",
    "            input_1 = cv2.imread(items[i][\"input\"])\n",
    "            input_1 = sig_process(input_1) \n",
    "\n",
    "            label[i] = items[i][\"label\"]\n",
    "            part_1[i,] = input_1\n",
    "            \n",
    "        return [part_1], label"
   ]
  },
  {
   "cell_type": "code",
   "execution_count": 6,
   "metadata": {
    "executionInfo": {
     "elapsed": 406,
     "status": "ok",
     "timestamp": 1654470223678,
     "user": {
      "displayName": "Teja E",
      "userId": "07207002669926772768"
     },
     "user_tz": -330
    },
    "id": "_N7Gu8vQEinh"
   },
   "outputs": [],
   "source": [
    "dimension = (155,220)\n",
    "batch_size = 64\n",
    "data_training = generate(train_set,batch_size,dimension)\n",
    "data_validation = generate(validation_set,batch_size,dimension)\n",
    "data_testing = generate(test_set,batch_size,dimension)"
   ]
  },
  {
   "cell_type": "markdown",
   "metadata": {
    "id": "NilYzfY2qN65"
   },
   "source": [
    "**Functions Used**"
   ]
  },
  {
   "cell_type": "code",
   "execution_count": 7,
   "metadata": {
    "executionInfo": {
     "elapsed": 4,
     "status": "ok",
     "timestamp": 1654470225470,
     "user": {
      "displayName": "Teja E",
      "userId": "07207002669926772768"
     },
     "user_tz": -330
    },
    "id": "3v0n7QtjEikG"
   },
   "outputs": [],
   "source": [
    "from tensorflow.keras import backend as K\n",
    "\n",
    "def output_shape(shapes):\n",
    "    shape1, shape2 = shapes\n",
    "    return (shape1[0], 1)\n",
    "    \n",
    "def accuracy(y_true, y_pred):\n",
    "    return K.mean(K.equal(y_true, K.cast(y_pred < 0.5, y_true.dtype)))"
   ]
  },
  {
   "cell_type": "markdown",
   "metadata": {
    "id": "JBHyb5MVs9vT"
   },
   "source": [
    "**Custom CNN Training Model**"
   ]
  },
  {
   "cell_type": "code",
   "execution_count": 8,
   "metadata": {},
   "outputs": [],
   "source": [
    "from tensorflow.keras import models\n",
    "from tensorflow.keras import layers\n",
    "from tensorflow.keras.layers import Conv2D, MaxPool2D, Dense, Activation, Input, Dropout, Flatten\n",
    "from tensorflow.keras.models import Model\n",
    "from tensorflow.keras.models import Sequential\n",
    "from tensorflow.keras.layers import Lambda\n",
    "from tensorflow.keras.activations import sigmoid\n",
    "from keras.utils.vis_utils import plot_model\n",
    "\n",
    "def cnn_model():\n",
    "    \n",
    "  input_shape=(155,220,1)  \n",
    "  input_1 = Input(shape=input_shape, name=\"input\")   \n",
    "    \n",
    "  model = Sequential()\n",
    "\n",
    "  model.add(Conv2D(64, (3, 3), activation='relu', input_shape=input_shape))\n",
    "  model.add(MaxPool2D((3, 3)))\n",
    "  model.add(Conv2D(32, (3, 3), activation='relu'))\n",
    "  model.add(MaxPool2D(2, 2))\n",
    "  model.add(Flatten())\n",
    "  model.add(Dense(128, activation='relu'))\n",
    "  model.add(Dropout(rate = 0.3))\n",
    "  model.add(Dense(2, activation='softmax'))\n",
    "\n",
    "  model.summary()\n",
    "  plot_model(model, to_file='sequential.png', show_shapes=True, show_layer_names=True)\n",
    "\n",
    "  return model"
   ]
  },
  {
   "cell_type": "code",
   "execution_count": 10,
   "metadata": {},
   "outputs": [
    {
     "name": "stdout",
     "output_type": "stream",
     "text": [
      "Model: \"sequential_1\"\n",
      "_________________________________________________________________\n",
      " Layer (type)                Output Shape              Param #   \n",
      "=================================================================\n",
      " conv2d_2 (Conv2D)           (None, 153, 218, 64)      640       \n",
      "                                                                 \n",
      " max_pooling2d_2 (MaxPooling  (None, 51, 72, 64)       0         \n",
      " 2D)                                                             \n",
      "                                                                 \n",
      " conv2d_3 (Conv2D)           (None, 49, 70, 32)        18464     \n",
      "                                                                 \n",
      " max_pooling2d_3 (MaxPooling  (None, 24, 35, 32)       0         \n",
      " 2D)                                                             \n",
      "                                                                 \n",
      " flatten_1 (Flatten)         (None, 26880)             0         \n",
      "                                                                 \n",
      " dense_2 (Dense)             (None, 128)               3440768   \n",
      "                                                                 \n",
      " dropout_1 (Dropout)         (None, 128)               0         \n",
      "                                                                 \n",
      " dense_3 (Dense)             (None, 2)                 258       \n",
      "                                                                 \n",
      "=================================================================\n",
      "Total params: 3,460,130\n",
      "Trainable params: 3,460,130\n",
      "Non-trainable params: 0\n",
      "_________________________________________________________________\n"
     ]
    }
   ],
   "source": [
    "model = cnn_model()"
   ]
  },
  {
   "cell_type": "code",
   "execution_count": 11,
   "metadata": {
    "colab": {
     "base_uri": "https://localhost:8080/",
     "height": 1000
    },
    "executionInfo": {
     "elapsed": 1108,
     "status": "ok",
     "timestamp": 1654470243407,
     "user": {
      "displayName": "Teja E",
      "userId": "07207002669926772768"
     },
     "user_tz": -330
    },
    "id": "VmEy-tPixSm6",
    "outputId": "a9316847-e4f6-4910-dc81-dfd9a549dcaf"
   },
   "outputs": [],
   "source": [
    "\n",
    "#img = cv2.imread('sequential.png')\n",
    "#print(\"The Layers in Sequential API are \\n\")\n",
    "#cv2.imshow(\"image\",img)"
   ]
  },
  {
   "cell_type": "markdown",
   "metadata": {
    "id": "afdScQbgBl_D"
   },
   "source": [
    "**Training the Model**"
   ]
  },
  {
   "cell_type": "code",
   "execution_count": 12,
   "metadata": {
    "executionInfo": {
     "elapsed": 5,
     "status": "ok",
     "timestamp": 1654470251347,
     "user": {
      "displayName": "Teja E",
      "userId": "07207002669926772768"
     },
     "user_tz": -330
    },
    "id": "ysylRI38EiJ5"
   },
   "outputs": [],
   "source": [
    "from tensorflow.keras.optimizers import Adam \n",
    "adam = tf.keras.optimizers.Adam(learning_rate = 3e-4, epsilon = 1e-08)\n",
    "model.compile(loss=\"sparse_categorical_crossentropy\", optimizer = 'adam', metrics =['accuracy'])"
   ]
  },
  {
   "cell_type": "code",
   "execution_count": 14,
   "metadata": {
    "colab": {
     "base_uri": "https://localhost:8080/"
    },
    "executionInfo": {
     "elapsed": 837295,
     "status": "ok",
     "timestamp": 1654471115606,
     "user": {
      "displayName": "Teja E",
      "userId": "07207002669926772768"
     },
     "user_tz": -330
    },
    "id": "pR-cukzFEiGE",
    "outputId": "ce79932a-21b7-4020-ea61-a0bbce962bda"
   },
   "outputs": [
    {
     "name": "stdout",
     "output_type": "stream",
     "text": [
      "Epoch 1/50\n",
      "24/24 [==============================] - 5s 216ms/step - loss: 0.6932 - accuracy: 0.4915 - val_loss: 0.6931 - val_accuracy: 0.5059\n",
      "Epoch 2/50\n",
      "24/24 [==============================] - 5s 198ms/step - loss: 0.6932 - accuracy: 0.4831 - val_loss: 0.6931 - val_accuracy: 0.5195\n",
      "Epoch 3/50\n",
      "24/24 [==============================] - 5s 197ms/step - loss: 0.6617 - accuracy: 0.6302 - val_loss: 0.6171 - val_accuracy: 0.7070\n",
      "Epoch 4/50\n",
      "24/24 [==============================] - 5s 201ms/step - loss: 0.5653 - accuracy: 0.7181 - val_loss: 0.5438 - val_accuracy: 0.7363\n",
      "Epoch 5/50\n",
      "24/24 [==============================] - 5s 203ms/step - loss: 0.4843 - accuracy: 0.7500 - val_loss: 0.5546 - val_accuracy: 0.7383\n",
      "Epoch 6/50\n",
      "24/24 [==============================] - 5s 201ms/step - loss: 0.4217 - accuracy: 0.8053 - val_loss: 0.5336 - val_accuracy: 0.7285\n",
      "Epoch 7/50\n",
      "24/24 [==============================] - 5s 205ms/step - loss: 0.3716 - accuracy: 0.8294 - val_loss: 0.4837 - val_accuracy: 0.7520\n",
      "Epoch 8/50\n",
      "24/24 [==============================] - 5s 204ms/step - loss: 0.3030 - accuracy: 0.8750 - val_loss: 0.5089 - val_accuracy: 0.7598\n",
      "Epoch 9/50\n",
      "24/24 [==============================] - 5s 200ms/step - loss: 0.2648 - accuracy: 0.8861 - val_loss: 0.5098 - val_accuracy: 0.7617\n",
      "Epoch 10/50\n",
      "24/24 [==============================] - 5s 205ms/step - loss: 0.1926 - accuracy: 0.9271 - val_loss: 0.5376 - val_accuracy: 0.7656\n",
      "Epoch 11/50\n",
      "24/24 [==============================] - 5s 207ms/step - loss: 0.1511 - accuracy: 0.9408 - val_loss: 0.5589 - val_accuracy: 0.7793\n",
      "Epoch 12/50\n",
      "24/24 [==============================] - 5s 203ms/step - loss: 0.1162 - accuracy: 0.9596 - val_loss: 0.6093 - val_accuracy: 0.7637\n",
      "Epoch 13/50\n",
      "24/24 [==============================] - 5s 200ms/step - loss: 0.1014 - accuracy: 0.9668 - val_loss: 0.6195 - val_accuracy: 0.7754\n",
      "Epoch 14/50\n",
      "24/24 [==============================] - 5s 209ms/step - loss: 0.0718 - accuracy: 0.9811 - val_loss: 0.6736 - val_accuracy: 0.7930\n",
      "Epoch 15/50\n",
      "24/24 [==============================] - 5s 207ms/step - loss: 0.0785 - accuracy: 0.9701 - val_loss: 0.7233 - val_accuracy: 0.7715\n",
      "Epoch 16/50\n",
      "24/24 [==============================] - 5s 208ms/step - loss: 0.0610 - accuracy: 0.9805 - val_loss: 0.6811 - val_accuracy: 0.7793\n",
      "Epoch 17/50\n",
      "24/24 [==============================] - 5s 203ms/step - loss: 0.0379 - accuracy: 0.9902 - val_loss: 0.6911 - val_accuracy: 0.7852\n",
      "Epoch 18/50\n",
      "24/24 [==============================] - 5s 207ms/step - loss: 0.0397 - accuracy: 0.9909 - val_loss: 0.7590 - val_accuracy: 0.7754\n",
      "Epoch 19/50\n",
      "24/24 [==============================] - 5s 211ms/step - loss: 0.0230 - accuracy: 0.9948 - val_loss: 0.7665 - val_accuracy: 0.7773\n",
      "Epoch 20/50\n",
      "24/24 [==============================] - 5s 203ms/step - loss: 0.0215 - accuracy: 0.9961 - val_loss: 0.8429 - val_accuracy: 0.7930\n",
      "Epoch 21/50\n",
      "24/24 [==============================] - 5s 202ms/step - loss: 0.0215 - accuracy: 0.9935 - val_loss: 0.7996 - val_accuracy: 0.7891\n",
      "Epoch 22/50\n",
      "24/24 [==============================] - 5s 210ms/step - loss: 0.0185 - accuracy: 0.9948 - val_loss: 0.8177 - val_accuracy: 0.7852\n",
      "Epoch 23/50\n",
      "24/24 [==============================] - 5s 206ms/step - loss: 0.0126 - accuracy: 0.9980 - val_loss: 0.8648 - val_accuracy: 0.7891\n",
      "Epoch 24/50\n",
      "24/24 [==============================] - 5s 220ms/step - loss: 0.0110 - accuracy: 0.9974 - val_loss: 0.9033 - val_accuracy: 0.7812\n",
      "Epoch 25/50\n",
      "24/24 [==============================] - 5s 209ms/step - loss: 0.0086 - accuracy: 1.0000 - val_loss: 0.9363 - val_accuracy: 0.7871\n",
      "Epoch 26/50\n",
      "24/24 [==============================] - 5s 207ms/step - loss: 0.0092 - accuracy: 0.9987 - val_loss: 0.9844 - val_accuracy: 0.7773\n",
      "Epoch 27/50\n",
      "24/24 [==============================] - 5s 210ms/step - loss: 0.0069 - accuracy: 0.9987 - val_loss: 0.9523 - val_accuracy: 0.7852\n",
      "Epoch 28/50\n",
      "24/24 [==============================] - 5s 212ms/step - loss: 0.0092 - accuracy: 0.9974 - val_loss: 0.9950 - val_accuracy: 0.7773\n",
      "Epoch 29/50\n",
      "24/24 [==============================] - 5s 213ms/step - loss: 0.0119 - accuracy: 0.9954 - val_loss: 0.9389 - val_accuracy: 0.7793\n",
      "Epoch 30/50\n",
      "24/24 [==============================] - 5s 211ms/step - loss: 0.0081 - accuracy: 0.9987 - val_loss: 1.0340 - val_accuracy: 0.7832\n",
      "Epoch 31/50\n",
      "24/24 [==============================] - 5s 214ms/step - loss: 0.0049 - accuracy: 0.9993 - val_loss: 1.0004 - val_accuracy: 0.7812\n",
      "Epoch 32/50\n",
      "24/24 [==============================] - 5s 211ms/step - loss: 0.0129 - accuracy: 0.9954 - val_loss: 1.0351 - val_accuracy: 0.7812\n",
      "Epoch 33/50\n",
      "24/24 [==============================] - 5s 214ms/step - loss: 0.0087 - accuracy: 0.9980 - val_loss: 1.0378 - val_accuracy: 0.7617\n",
      "Epoch 34/50\n",
      "24/24 [==============================] - 5s 219ms/step - loss: 0.0090 - accuracy: 0.9974 - val_loss: 1.0497 - val_accuracy: 0.7793\n",
      "Epoch 35/50\n",
      "24/24 [==============================] - 5s 205ms/step - loss: 0.0052 - accuracy: 0.9987 - val_loss: 1.0729 - val_accuracy: 0.7715\n",
      "Epoch 36/50\n",
      "24/24 [==============================] - 5s 214ms/step - loss: 0.0173 - accuracy: 0.9948 - val_loss: 1.1136 - val_accuracy: 0.7988\n",
      "Epoch 37/50\n",
      "24/24 [==============================] - 5s 212ms/step - loss: 0.0126 - accuracy: 0.9954 - val_loss: 0.9219 - val_accuracy: 0.7871\n",
      "Epoch 38/50\n",
      "24/24 [==============================] - 5s 212ms/step - loss: 0.0120 - accuracy: 0.9987 - val_loss: 0.9411 - val_accuracy: 0.7910\n",
      "Epoch 39/50\n",
      "24/24 [==============================] - 5s 212ms/step - loss: 0.0056 - accuracy: 1.0000 - val_loss: 1.0826 - val_accuracy: 0.7812\n",
      "Epoch 40/50\n",
      "24/24 [==============================] - 5s 206ms/step - loss: 0.0090 - accuracy: 0.9967 - val_loss: 1.0526 - val_accuracy: 0.7754\n",
      "Epoch 41/50\n",
      "24/24 [==============================] - 5s 210ms/step - loss: 0.0123 - accuracy: 0.9974 - val_loss: 1.1141 - val_accuracy: 0.7812\n",
      "Epoch 42/50\n",
      "24/24 [==============================] - 5s 209ms/step - loss: 0.0041 - accuracy: 1.0000 - val_loss: 1.1375 - val_accuracy: 0.7793\n",
      "Epoch 43/50\n",
      "24/24 [==============================] - 5s 212ms/step - loss: 0.0086 - accuracy: 0.9967 - val_loss: 1.1216 - val_accuracy: 0.7852\n",
      "Epoch 44/50\n",
      "24/24 [==============================] - 5s 204ms/step - loss: 0.0087 - accuracy: 0.9974 - val_loss: 1.1370 - val_accuracy: 0.7773\n",
      "Epoch 45/50\n",
      "24/24 [==============================] - 5s 206ms/step - loss: 0.0151 - accuracy: 0.9954 - val_loss: 1.1306 - val_accuracy: 0.8047\n",
      "Epoch 46/50\n",
      "24/24 [==============================] - 5s 204ms/step - loss: 0.0117 - accuracy: 0.9961 - val_loss: 1.1023 - val_accuracy: 0.7695\n",
      "Epoch 47/50\n",
      "24/24 [==============================] - 5s 212ms/step - loss: 0.0066 - accuracy: 0.9974 - val_loss: 1.2451 - val_accuracy: 0.7910\n",
      "Epoch 48/50\n",
      "24/24 [==============================] - 5s 208ms/step - loss: 0.0066 - accuracy: 0.9987 - val_loss: 1.1846 - val_accuracy: 0.7930\n",
      "Epoch 49/50\n",
      "24/24 [==============================] - 5s 214ms/step - loss: 0.0197 - accuracy: 0.9928 - val_loss: 1.0392 - val_accuracy: 0.7891\n",
      "Epoch 50/50\n",
      "24/24 [==============================] - 5s 211ms/step - loss: 0.0162 - accuracy: 0.9954 - val_loss: 0.9981 - val_accuracy: 0.7832\n"
     ]
    }
   ],
   "source": [
    "history=model.fit(data_training, validation_data = data_validation, epochs= 50)"
   ]
  },
  {
   "cell_type": "code",
   "execution_count": 15,
   "metadata": {},
   "outputs": [
    {
     "name": "stdout",
     "output_type": "stream",
     "text": [
      "Model: \"sequential_1\"\n",
      "_________________________________________________________________\n",
      " Layer (type)                Output Shape              Param #   \n",
      "=================================================================\n",
      " conv2d_2 (Conv2D)           (None, 153, 218, 64)      640       \n",
      "                                                                 \n",
      " max_pooling2d_2 (MaxPooling  (None, 51, 72, 64)       0         \n",
      " 2D)                                                             \n",
      "                                                                 \n",
      " conv2d_3 (Conv2D)           (None, 49, 70, 32)        18464     \n",
      "                                                                 \n",
      " max_pooling2d_3 (MaxPooling  (None, 24, 35, 32)       0         \n",
      " 2D)                                                             \n",
      "                                                                 \n",
      " flatten_1 (Flatten)         (None, 26880)             0         \n",
      "                                                                 \n",
      " dense_2 (Dense)             (None, 128)               3440768   \n",
      "                                                                 \n",
      " dropout_1 (Dropout)         (None, 128)               0         \n",
      "                                                                 \n",
      " dense_3 (Dense)             (None, 2)                 258       \n",
      "                                                                 \n",
      "=================================================================\n",
      "Total params: 3,460,130\n",
      "Trainable params: 3,460,130\n",
      "Non-trainable params: 0\n",
      "_________________________________________________________________\n",
      "The layers in the CNN Model are \n",
      "\n"
     ]
    },
    {
     "data": {
      "image/png": "[encoded data removed]",
      "text/plain": [
       "<IPython.core.display.Image object>"
      ]
     },
     "execution_count": 15,
     "metadata": {},
     "output_type": "execute_result"
    }
   ],
   "source": [
    "model.summary()\n",
    "print(\"The layers in the CNN Model are \\n\")\n",
    "tf.keras.utils.plot_model(model, to_file=\"base_model.png\", show_shapes=True)"
   ]
  },
  {
   "cell_type": "code",
   "execution_count": 16,
   "metadata": {
    "executionInfo": {
     "elapsed": 510,
     "status": "ok",
     "timestamp": 1654471139556,
     "user": {
      "displayName": "Teja E",
      "userId": "07207002669926772768"
     },
     "user_tz": -330
    },
    "id": "iSNW9MAiEiCu"
   },
   "outputs": [],
   "source": [
    "model.save('cnn.h5')"
   ]
  },
  {
   "cell_type": "markdown",
   "metadata": {
    "id": "qYgCXHFyBurd"
   },
   "source": [
    "**Plotting graphs for Accuracy and Loss**"
   ]
  },
  {
   "cell_type": "code",
   "execution_count": 17,
   "metadata": {
    "colab": {
     "base_uri": "https://localhost:8080/",
     "height": 283
    },
    "executionInfo": {
     "elapsed": 1566,
     "status": "ok",
     "timestamp": 1654471143270,
     "user": {
      "displayName": "Teja E",
      "userId": "07207002669926772768"
     },
     "user_tz": -330
    },
    "id": "9lPBbdeHEh9S",
    "outputId": "75aea4f7-2724-4a7a-ee09-679ecd93c259"
   },
   "outputs": [
    {
     "data": {
      "image/png": "[encoded data removed]",
      "text/plain": [
       "<Figure size 432x288 with 1 Axes>"
      ]
     },
     "metadata": {
      "needs_background": "light"
     },
     "output_type": "display_data"
    }
   ],
   "source": [
    "import matplotlib.pyplot as plt\n",
    "plt.plot(history.history['accuracy'], label='accuracy')\n",
    "plt.plot(history.history['val_accuracy'], label = 'val_accuracy')\n",
    "plt.xlabel('Epoch')\n",
    "plt.ylabel('Accuracy')\n",
    "plt.ylim([0.5, 1])\n",
    "plt.legend(loc='lower right')\n",
    "plt.savefig(\"accuracy_plot.png\")"
   ]
  },
  {
   "cell_type": "code",
   "execution_count": 18,
   "metadata": {
    "colab": {
     "base_uri": "https://localhost:8080/",
     "height": 279
    },
    "executionInfo": {
     "elapsed": 535,
     "status": "ok",
     "timestamp": 1654471145519,
     "user": {
      "displayName": "Teja E",
      "userId": "07207002669926772768"
     },
     "user_tz": -330
    },
    "id": "tYCoAF5gwIRR",
    "outputId": "04df6ec5-d6af-4351-d593-842b05905cb5"
   },
   "outputs": [
    {
     "data": {
      "image/png": "[encoded data removed]",
      "text/plain": [
       "<Figure size 432x288 with 1 Axes>"
      ]
     },
     "metadata": {
      "needs_background": "light"
     },
     "output_type": "display_data"
    }
   ],
   "source": [
    "import matplotlib.pyplot as plt\n",
    "\n",
    "plt.plot(history.history['loss'], label='loss')\n",
    "plt.plot(history.history['val_loss'], label = 'val_loss')\n",
    "plt.xlabel('Epoch')\n",
    "plt.ylabel('Loss')\n",
    "plt.legend(loc='lower right')\n",
    "plt.savefig(\"loss_plot.png\")"
   ]
  },
  {
   "cell_type": "markdown",
   "metadata": {
    "id": "Wu6oo9JBB5Mg"
   },
   "source": [
    "**Evaluating the validation accuracy and Validation loss**"
   ]
  },
  {
   "cell_type": "code",
   "execution_count": 19,
   "metadata": {
    "colab": {
     "base_uri": "https://localhost:8080/"
    },
    "executionInfo": {
     "elapsed": 12553,
     "status": "ok",
     "timestamp": 1654471164675,
     "user": {
      "displayName": "Teja E",
      "userId": "07207002669926772768"
     },
     "user_tz": -330
    },
    "id": "aYE5iN46EhwW",
    "outputId": "d31cf67b-d401-48ce-8644-1f51b47cf555"
   },
   "outputs": [
    {
     "name": "stdout",
     "output_type": "stream",
     "text": [
      "8/8 [==============================] - 1s 153ms/step - loss: 0.9981 - accuracy: 0.7832\n"
     ]
    }
   ],
   "source": [
    "validation_loss, validation_acc = model.evaluate(data_validation)"
   ]
  },
  {
   "cell_type": "code",
   "execution_count": 20,
   "metadata": {
    "colab": {
     "base_uri": "https://localhost:8080/"
    },
    "executionInfo": {
     "elapsed": 30,
     "status": "ok",
     "timestamp": 1654471164676,
     "user": {
      "displayName": "Teja E",
      "userId": "07207002669926772768"
     },
     "user_tz": -330
    },
    "id": "o3TWcXBcPC0d",
    "outputId": "993bd394-e671-45c7-cbc0-3865e7be04af"
   },
   "outputs": [
    {
     "name": "stdout",
     "output_type": "stream",
     "text": [
      "The validation loss is =  0.9981099367141724\n"
     ]
    }
   ],
   "source": [
    "print(\"The validation loss is = \",validation_loss)"
   ]
  },
  {
   "cell_type": "code",
   "execution_count": 21,
   "metadata": {
    "colab": {
     "base_uri": "https://localhost:8080/"
    },
    "executionInfo": {
     "elapsed": 24,
     "status": "ok",
     "timestamp": 1654471164677,
     "user": {
      "displayName": "Teja E",
      "userId": "07207002669926772768"
     },
     "user_tz": -330
    },
    "id": "FE4xJVjLPCvF",
    "outputId": "55002e4a-3786-440d-abf5-fd4b2923968b"
   },
   "outputs": [
    {
     "name": "stdout",
     "output_type": "stream",
     "text": [
      "The validation accuracy is =  0.783203125\n"
     ]
    }
   ],
   "source": [
    "print(\"The validation accuracy is = \",validation_acc)"
   ]
  },
  {
   "cell_type": "markdown",
   "metadata": {
    "id": "Wu6oo9JBB5Mg"
   },
   "source": [
    "**Evaluating the Test accuracy and Test loss**"
   ]
  },
  {
   "cell_type": "code",
   "execution_count": 22,
   "metadata": {},
   "outputs": [
    {
     "name": "stdout",
     "output_type": "stream",
     "text": [
      "8/8 [==============================] - 1s 157ms/step - loss: 0.8415 - accuracy: 0.8203\n"
     ]
    }
   ],
   "source": [
    "test_loss, test_acc = model.evaluate(data_testing)"
   ]
  },
  {
   "cell_type": "code",
   "execution_count": 23,
   "metadata": {},
   "outputs": [
    {
     "name": "stdout",
     "output_type": "stream",
     "text": [
      "The testing loss is =  0.841469943523407\n"
     ]
    }
   ],
   "source": [
    "print(\"The testing loss is = \",test_loss)"
   ]
  },
  {
   "cell_type": "code",
   "execution_count": 24,
   "metadata": {},
   "outputs": [
    {
     "name": "stdout",
     "output_type": "stream",
     "text": [
      "The testing accuracy is =  0.8203125\n"
     ]
    }
   ],
   "source": [
    "print(\"The testing accuracy is = \",test_acc)"
   ]
  },
  {
   "cell_type": "code",
   "execution_count": 26,
   "metadata": {
    "colab": {
     "base_uri": "https://localhost:8080/"
    },
    "executionInfo": {
     "elapsed": 16629,
     "status": "ok",
     "timestamp": 1654471291536,
     "user": {
      "displayName": "Teja E",
      "userId": "07207002669926772768"
     },
     "user_tz": -330
    },
    "id": "vYUkFaWwb0NJ",
    "outputId": "91878ada-6707-4425-f6b9-815ec3c4e89a"
   },
   "outputs": [
    {
     "name": "stdout",
     "output_type": "stream",
     "text": [
      "\n",
      " Test Signature Details : \n",
      "\n"
     ]
    },
    {
     "name": "stdin",
     "output_type": "stream",
     "text": [
      "Enter forg for forged and org for genuine signature :  org\n",
      "Enter signer number(1 to 55) :  2\n",
      "Enter signature number for signer number 2(1 to 24) :  5\n"
     ]
    },
    {
     "name": "stdout",
     "output_type": "stream",
     "text": [
      "1/1 [==============================] - 0s 11ms/step\n",
      "[[0. 1.]]\n",
      "The signature is genuine \n",
      "\n"
     ]
    }
   ],
   "source": [
    "print('\\n Test Signature Details : \\n')\n",
    "type=input('Enter forg for forged and org for genuine signature : ')\n",
    "s = input('Enter signer number(1 to 55) : ')\n",
    "s2=input('Enter signature number for signer number '+s+'(1 to 24) : ') \n",
    "\n",
    "if(type=='forg'):\n",
    "  st='forgeries'\n",
    "elif(type=='org'):\n",
    "  st='original'\n",
    "\n",
    "inp = cv2.imread('signatures/full_'+type+'/'+st+'_'+s+'_'+s2+'.png')\n",
    "\n",
    "inp = sig_process(inp)\n",
    "                   \n",
    "inp = np.expand_dims(inp,axis=0)\n",
    "\n",
    "inp_pred = model.predict([inp])\n",
    "inp_pred = np.round(inp_pred)\n",
    "\n",
    "print(inp_pred)\n",
    "\n",
    "if (inp_pred[0][0] == 0):\n",
    "  print('The signature is genuine \\n')\n",
    "elif(inp_pred[0][0]>=1):\n",
    "  print('The signature is forged \\n')\n"
   ]
  },
  {
   "cell_type": "code",
   "execution_count": null,
   "metadata": {},
   "outputs": [],
   "source": []
  }
 ],
 "metadata": {
  "accelerator": "GPU",
  "colab": {
   "authorship_tag": "ABX9TyOCneuxGeNyU0epEckbMowx",
   "collapsed_sections": [],
   "name": "ish_test.ipynb",
   "provenance": [
    {
     "file_id": "1iGiP1HgTvy51Hjjo4WsJwkD8Bfyh0aSF",
     "timestamp": 1654450211168
    }
   ]
  },
  "kernelspec": {
   "display_name": "Python 3 (ipykernel)",
   "language": "python",
   "name": "python3"
  },
  "language_info": {
   "codemirror_mode": {
    "name": "ipython",
    "version": 3
   },
   "file_extension": ".py",
   "mimetype": "text/x-python",
   "name": "python",
   "nbconvert_exporter": "python",
   "pygments_lexer": "ipython3",
   "version": "3.10.4"
  }
 },
 "nbformat": 4,
 "nbformat_minor": 4
}
