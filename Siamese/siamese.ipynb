{
 "cells": [
  {
   "cell_type": "markdown",
   "metadata": {
    "id": "SrfX0-1PWPiz"
   },
   "source": [
    "**Siamese Network With Contrastive Loss**\n"
   ]
  },
  {
   "cell_type": "markdown",
   "metadata": {
    "id": "5M5Q-Cn8XwFP"
   },
   "source": [
    "**Dataset**\n",
    "\n",
    "Dataset used is the CEDAR Signature Dataset \n",
    "\n",
    "Dataset Link :     [CEDAR](http://www.cedar.buffalo.edu/NIJ/data/signatures.rar)"
   ]
  },
  {
   "cell_type": "code",
   "execution_count": 1,
   "metadata": {
    "colab": {
     "base_uri": "https://localhost:8080/"
    },
    "executionInfo": {
     "elapsed": 3923,
     "status": "ok",
     "timestamp": 1654468057606,
     "user": {
      "displayName": "Teja E",
      "userId": "07207002669926772768"
     },
     "user_tz": -330
    },
    "id": "a6oOp9OzHdOA",
    "outputId": "961f4283-ad01-442d-be60-188d1902e422"
   },
   "outputs": [
    {
     "name": "stdout",
     "output_type": "stream",
     "text": [
      "--2022-06-08 16:22:56--  http://www.cedar.buffalo.edu/NIJ/data/signatures.rar\n",
      "Resolving www.cedar.buffalo.edu (www.cedar.buffalo.edu)... 128.205.33.100\n",
      "Connecting to www.cedar.buffalo.edu (www.cedar.buffalo.edu)|128.205.33.100|:80... connected.\n",
      "HTTP request sent, awaiting response... 301 Moved Permanently\n",
      "Location: https://cedar.buffalo.edu/NIJ/data/signatures.rar [following]\n",
      "--2022-06-08 16:22:57--  https://cedar.buffalo.edu/NIJ/data/signatures.rar\n",
      "Resolving cedar.buffalo.edu (cedar.buffalo.edu)... 128.205.33.100\n",
      "Connecting to cedar.buffalo.edu (cedar.buffalo.edu)|128.205.33.100|:443... connected.\n",
      "HTTP request sent, awaiting response... 304 Not Modified\n",
      "File ‘./signatures.rar’ not modified on server. Omitting download.\n",
      "\n"
     ]
    }
   ],
   "source": [
    "!wget -N -P . http://www.cedar.buffalo.edu/NIJ/data/signatures.rar"
   ]
  },
  {
   "cell_type": "code",
   "execution_count": 2,
   "metadata": {
    "colab": {
     "base_uri": "https://localhost:8080/"
    },
    "executionInfo": {
     "elapsed": 25941,
     "status": "ok",
     "timestamp": 1654468083536,
     "user": {
      "displayName": "Teja E",
      "userId": "07207002669926772768"
     },
     "user_tz": -330
    },
    "id": "yQlV6mUjHfZu",
    "outputId": "d7559e70-3116-47c7-caf4-ea573e7a4eeb"
   },
   "outputs": [],
   "source": [
    "!unrar x -inul signatures.rar"
   ]
  },
  {
   "cell_type": "code",
   "execution_count": 1,
   "metadata": {
    "colab": {
     "base_uri": "https://localhost:8080/"
    },
    "executionInfo": {
     "elapsed": 3035,
     "status": "ok",
     "timestamp": 1654470205321,
     "user": {
      "displayName": "Teja E",
      "userId": "07207002669926772768"
     },
     "user_tz": -330
    },
    "id": "ww0JKHxHEasL",
    "outputId": "3bf6dbb4-4da6-4b14-89e2-efb599996d47"
   },
   "outputs": [
    {
     "name": "stdout",
     "output_type": "stream",
     "text": [
      "2.9.1\n",
      "2.9.0\n",
      "1.4.2\n",
      "4.5.5\n",
      "1.21.5\n"
     ]
    }
   ],
   "source": [
    "import tensorflow\n",
    "import tensorflow as tf\n",
    "from tensorflow import keras\n",
    "import cv2\n",
    "import pandas as pd\n",
    "import numpy as np\n",
    "import matplotlib.pyplot as plt\n",
    "from sklearn.model_selection import train_test_split\n",
    "\n",
    "print(tensorflow.__version__)\n",
    "print(keras.__version__)\n",
    "print(pd.__version__)\n",
    "print(cv2.__version__)\n",
    "print(np.__version__)"
   ]
  },
  {
   "cell_type": "markdown",
   "metadata": {
    "id": "CLher-W8XSCY"
   },
   "source": [
    "**DataFrame Generator**\n",
    "\n",
    "Generates a pandas dataframe with path of the signature samples that are used in this model.\n",
    "\n",
    "Generates pairs of signatures in the form of Genuine-Genuine and Genuine-Forged\n",
    "\n",
    "Total Samples = Number of Persons * Number of Samples * Types of Pairs(2)\n",
    "\n",
    "          Total Samples    = 55 * 24 * 2 = 2640 "
   ]
  },
  {
   "cell_type": "code",
   "execution_count": 2,
   "metadata": {
    "executionInfo": {
     "elapsed": 9,
     "status": "ok",
     "timestamp": 1654470206939,
     "user": {
      "displayName": "Teja E",
      "userId": "07207002669926772768"
     },
     "user_tz": -330
    },
    "id": "EDpdtSJWEi1p"
   },
   "outputs": [],
   "source": [
    "path_org =  'signatures/full_org'\n",
    "path_forg = 'signatures/full_forg'\n",
    "no_persons = 55\n",
    "no_signs = 24\n",
    "\n",
    "def create_df():\n",
    "  org_sign = []\n",
    "  for i in range(1,no_persons+1):\n",
    "    for j in range(1,no_signs+1):\n",
    "      path = (path_org+'/original_'+str(i)+'_'+str(j)+'.png')\n",
    "      org_sign.append(path)\n",
    "\n",
    "  forg_sign = []\n",
    "  for i in range(1,no_persons+1):\n",
    "    for j in range(1,no_signs+1):\n",
    "      path = (path_forg+'/forgeries_'+str(i)+'_'+str(j)+'.png')\n",
    "      forg_sign.append(path)\n",
    "\n",
    "  \n",
    "  raw_data = {\"input_1\":[], \"input_2\":[], \"label\":[]}\n",
    "  for i in range(no_persons):\n",
    "    org_signs_1=[]\n",
    "    org_signs_2=[]\n",
    "    forg_signs_1=[]\n",
    "\n",
    "    start = i*24\n",
    "    end = (i+1)*24\n",
    "\n",
    "    for sample in range(start,end): \n",
    "      org_signs_1.append(org_sign[sample])\n",
    "      org_signs_2.append(org_sign[sample])\n",
    "      raw_data[\"label\"].append(1) \n",
    "    \n",
    "    org_signs_1.extend(org_signs_2)\n",
    "\n",
    "    for sign in org_signs_2:\n",
    "      forg_signs_1.append(sign)\n",
    "    \n",
    "    for j in range(start,end): \n",
    "      forg_signs_1.append(forg_sign[j])\n",
    "      raw_data[\"label\"].append(0)\n",
    "    \n",
    "    raw_data[\"input_1\"].extend(org_signs_1)\n",
    "    raw_data[\"input_2\"].extend(forg_signs_1)\n",
    "\n",
    "  df = pd.DataFrame(raw_data, columns = [\"input_1\",\"input_2\",\"label\"])\n",
    "  return df"
   ]
  },
  {
   "cell_type": "markdown",
   "metadata": {
    "id": "cApEnWJLaGut"
   },
   "source": [
    "**Dataset Split**\n",
    "\n",
    "Splitting the data into train, validation and test data with a ratio  6:2:2\n",
    "\n",
    "Train data = 0.6 * 2640 = 1584\n",
    "\n",
    "Validation data = 0.4 * 0.5 * 2640 = 528\n",
    "\n",
    "Testing data = 0.4 * 0.5 * 2640 = 528\n"
   ]
  },
  {
   "cell_type": "code",
   "execution_count": 3,
   "metadata": {},
   "outputs": [
    {
     "name": "stdout",
     "output_type": "stream",
     "text": [
      "4752 1584 1584\n",
      "The number of instances in train set 1584\n",
      "The number of instances in validation set 528\n",
      "The number of instances in test set 528\n"
     ]
    }
   ],
   "source": [
    "def train_test_dataset():\n",
    "  data_frame = create_df()\n",
    "  train_set, res_set = train_test_split(data_frame,train_size=0.6,random_state=0)\n",
    "  validation_set, test_set = train_test_split(res_set,train_size=0.5,random_state=0)\n",
    "\n",
    "  return train_set, validation_set, test_set\n",
    "\n",
    "train_set,validation_set, test_set = train_test_dataset()\n",
    "print(train_set.size, validation_set.size, test_set.size)\n",
    "print(\"The number of instances in train set\",train_set.shape[0])\n",
    "print(\"The number of instances in validation set\",validation_set.shape[0])\n",
    "print(\"The number of instances in test set\",test_set.shape[0])"
   ]
  },
  {
   "cell_type": "markdown",
   "metadata": {
    "id": "uO1iM9BLcUm5"
   },
   "source": [
    "**Processing The Signatures**\n"
   ]
  },
  {
   "cell_type": "code",
   "execution_count": 4,
   "metadata": {
    "executionInfo": {
     "elapsed": 519,
     "status": "ok",
     "timestamp": 1654470216464,
     "user": {
      "displayName": "Teja E",
      "userId": "07207002669926772768"
     },
     "user_tz": -330
    },
    "id": "KzIVsTeya0O1"
   },
   "outputs": [],
   "source": [
    "def sig_process(inp):\n",
    "  \n",
    "  inp = cv2.resize(inp,(220,155))\n",
    "  inp = cv2.cvtColor(inp, cv2.COLOR_BGR2GRAY)\n",
    "  ret,inp = cv2.threshold(inp, 0, 255, cv2.THRESH_OTSU)\n",
    "  inp = inp/255\n",
    "  inp = inp[:, :, np.newaxis]\n",
    "  inp = np.array(inp)\n",
    "\n",
    "  return inp"
   ]
  },
  {
   "cell_type": "markdown",
   "metadata": {
    "id": "NilYzfY2qN65"
   },
   "source": [
    "**Input Generator for the Model**"
   ]
  },
  {
   "cell_type": "code",
   "execution_count": 5,
   "metadata": {
    "executionInfo": {
     "elapsed": 418,
     "status": "ok",
     "timestamp": 1654470220660,
     "user": {
      "displayName": "Teja E",
      "userId": "07207002669926772768"
     },
     "user_tz": -330
    },
    "id": "hr78qHNjEiq9"
   },
   "outputs": [],
   "source": [
    "class generate(tf.keras.utils.Sequence):\n",
    "    \n",
    "    def __init__(self, df, batch_size, dimension):\n",
    "        self.dimension = dimension\n",
    "        self.batch_size = batch_size\n",
    "        self.df = df\n",
    "        self.labels = df[\"label\"]\n",
    "\n",
    "        self.on_epoch_end()\n",
    "    \n",
    "    def __len__(self):\n",
    "        s_df=self.df.shape[0]\n",
    "        n=np.floor(s_df/self.batch_size)\n",
    "        return int(n)\n",
    "\n",
    "    def __getitem__(self, ind):\n",
    "        batches = self.indices[ind*self.batch_size:(ind+1)*self.batch_size]\n",
    "        items = [self.df.iloc[k] for k in batches]\n",
    "        part1,part2 = self.generator(items)\n",
    "        return part1,part2\n",
    "\n",
    "    def on_epoch_end(self):\n",
    "        self.indices = np.arange(self.df.shape[0])\n",
    "\n",
    "    def generator(self, items):\n",
    "        part_1 = np.empty((self.batch_size, *self.dimension,1))\n",
    "        part_2 = np.empty((self.batch_size, *self.dimension,1))\n",
    "        label = np.empty((self.batch_size), dtype=int)\n",
    "        \n",
    "        for i in range(len(items)):\n",
    "\n",
    "            input_1 = cv2.imread(items[i][\"input_1\"])\n",
    "            input_1 = sig_process(input_1) \n",
    "\n",
    "            input_2 = cv2.imread(items[i][\"input_2\"])\n",
    "            input_2 = sig_process(input_2)\n",
    "\n",
    "            label[i] = items[i][\"label\"]\n",
    "            part_1[i,] = input_1\n",
    "            part_2[i,] = input_2 \n",
    "            \n",
    "        return [part_1 ,part_2], label"
   ]
  },
  {
   "cell_type": "code",
   "execution_count": 6,
   "metadata": {
    "executionInfo": {
     "elapsed": 406,
     "status": "ok",
     "timestamp": 1654470223678,
     "user": {
      "displayName": "Teja E",
      "userId": "07207002669926772768"
     },
     "user_tz": -330
    },
    "id": "_N7Gu8vQEinh"
   },
   "outputs": [],
   "source": [
    "dimension = (155,220)\n",
    "batch_size = 64\n",
    "data_training = generate(train_set,batch_size,dimension)\n",
    "data_validation = generate(validation_set,batch_size,dimension)\n",
    "data_testing = generate(test_set,batch_size,dimension)"
   ]
  },
  {
   "cell_type": "markdown",
   "metadata": {
    "id": "NilYzfY2qN65"
   },
   "source": [
    "**Functions Used**"
   ]
  },
  {
   "cell_type": "code",
   "execution_count": 7,
   "metadata": {
    "executionInfo": {
     "elapsed": 4,
     "status": "ok",
     "timestamp": 1654470225470,
     "user": {
      "displayName": "Teja E",
      "userId": "07207002669926772768"
     },
     "user_tz": -330
    },
    "id": "3v0n7QtjEikG"
   },
   "outputs": [],
   "source": [
    "from tensorflow.keras import backend as K\n",
    "\n",
    "def euclidean_distance(vectors):\n",
    "    x, y = vectors\n",
    "    sum_square = K.sum(K.square(x - y), axis=1, keepdims=True)\n",
    "    return K.sqrt(K.maximum(sum_square, K.epsilon()))\n",
    "\n",
    "def output_shape(shapes):\n",
    "    shape1, shape2 = shapes\n",
    "    return (shape1[0], 1)\n",
    "\n",
    "def contrastive_loss(l, y_pred):\n",
    "    margin = 1\n",
    "    l = tf.cast(l, y_pred.dtype)\n",
    "    margin_square = (K.maximum(margin - y_pred, 0))**2\n",
    "    return K.mean((l * (y_pred)**2)*l + (1 - l)* margin_square)\n",
    "    \n",
    "def accuracy(y_true, y_pred):\n",
    "    return K.mean(K.equal(y_true, K.cast(y_pred < 0.5, y_true.dtype)))"
   ]
  },
  {
   "cell_type": "markdown",
   "metadata": {
    "id": "JBHyb5MVs9vT"
   },
   "source": [
    "**Custom Siamese Training Model**"
   ]
  },
  {
   "cell_type": "code",
   "execution_count": 8,
   "metadata": {},
   "outputs": [],
   "source": [
    "from tensorflow.keras import models\n",
    "from tensorflow.keras.layers import Conv2D, MaxPool2D, Dense, Activation, Input, Dropout, Flatten\n",
    "from tensorflow.keras.models import Model\n",
    "from tensorflow.keras.models import Sequential\n",
    "from tensorflow.keras.layers import Lambda\n",
    "from keras.utils.vis_utils import plot_model\n",
    "\n",
    "def base_model():\n",
    "\n",
    "  input_shape=(155,220,1)\n",
    "  input_1 = Input(shape=input_shape, name=\"input_1\")\n",
    "  input_2 = Input(shape=input_shape, name=\"input_2\")  \n",
    "\n",
    "  model = Sequential()\n",
    "  \n",
    "  model.add(Conv2D(16, (3, 3), activation=\"relu\", input_shape=input_shape))\n",
    "  model.add( MaxPool2D(pool_size=(3,3)) )\n",
    "\n",
    "  model.add( Conv2D(48, (3, 3), activation=\"relu\") )\n",
    "  model.add( MaxPool2D(pool_size=(3,3),strides=(2,2)) )\n",
    "  \n",
    "  model.add( Conv2D(96, (3, 3), activation=\"relu\") )\n",
    "\n",
    "  model.add( Conv2D(48, (3, 3), activation=\"relu\") )\n",
    "\n",
    "  model.add( Conv2D(96, (3, 3), activation=\"relu\") )\n",
    "\n",
    "  model.add( MaxPool2D(pool_size=(3,3),strides=(2,2)) )\n",
    "\n",
    "  model.add( Dropout(0.3) )\n",
    "\n",
    "  model.add( Flatten() )\n",
    "  \n",
    "\n",
    "  model.add( Dense(256, activation=\"relu\") )\n",
    "  model.add( Dropout(0.5) )\n",
    "\n",
    "  model.add( Dense(192, activation=\"relu\") )\n",
    "  \n",
    "  model.summary()\n",
    "  plot_model(model, to_file='sequential.png', show_shapes=True, show_layer_names=True)\n",
    "\n",
    "  branch1 = model(input_1)\n",
    "  branch2 = model(input_2)\n",
    "\n",
    "  cal = Lambda(euclidean_distance,output_shape=output_shape)\n",
    "  distance=cal([branch1, branch2])\n",
    "\n",
    "  model = Model([input_1, input_2], distance)\n",
    "\n",
    "  return model"
   ]
  },
  {
   "cell_type": "code",
   "execution_count": 12,
   "metadata": {
    "colab": {
     "base_uri": "https://localhost:8080/"
    },
    "executionInfo": {
     "elapsed": 4435,
     "status": "ok",
     "timestamp": 1654470238683,
     "user": {
      "displayName": "Teja E",
      "userId": "07207002669926772768"
     },
     "user_tz": -330
    },
    "id": "kBajQZyKEiOO",
    "outputId": "1f0329de-f4c5-4f56-cc10-19f052940321"
   },
   "outputs": [
    {
     "name": "stdout",
     "output_type": "stream",
     "text": [
      "Model: \"sequential_1\"\n",
      "_________________________________________________________________\n",
      " Layer (type)                Output Shape              Param #   \n",
      "=================================================================\n",
      " conv2d_5 (Conv2D)           (None, 153, 218, 16)      160       \n",
      "                                                                 \n",
      " max_pooling2d_3 (MaxPooling  (None, 51, 72, 16)       0         \n",
      " 2D)                                                             \n",
      "                                                                 \n",
      " conv2d_6 (Conv2D)           (None, 49, 70, 48)        6960      \n",
      "                                                                 \n",
      " max_pooling2d_4 (MaxPooling  (None, 24, 34, 48)       0         \n",
      " 2D)                                                             \n",
      "                                                                 \n",
      " conv2d_7 (Conv2D)           (None, 22, 32, 96)        41568     \n",
      "                                                                 \n",
      " conv2d_8 (Conv2D)           (None, 20, 30, 48)        41520     \n",
      "                                                                 \n",
      " conv2d_9 (Conv2D)           (None, 18, 28, 96)        41568     \n",
      "                                                                 \n",
      " max_pooling2d_5 (MaxPooling  (None, 8, 13, 96)        0         \n",
      " 2D)                                                             \n",
      "                                                                 \n",
      " dropout_2 (Dropout)         (None, 8, 13, 96)         0         \n",
      "                                                                 \n",
      " flatten_1 (Flatten)         (None, 9984)              0         \n",
      "                                                                 \n",
      " dense_2 (Dense)             (None, 256)               2556160   \n",
      "                                                                 \n",
      " dropout_3 (Dropout)         (None, 256)               0         \n",
      "                                                                 \n",
      " dense_3 (Dense)             (None, 192)               49344     \n",
      "                                                                 \n",
      "=================================================================\n",
      "Total params: 2,737,280\n",
      "Trainable params: 2,737,280\n",
      "Non-trainable params: 0\n",
      "_________________________________________________________________\n"
     ]
    }
   ],
   "source": [
    "model = base_model()"
   ]
  },
  {
   "cell_type": "code",
   "execution_count": 13,
   "metadata": {
    "colab": {
     "base_uri": "https://localhost:8080/",
     "height": 1000
    },
    "executionInfo": {
     "elapsed": 1108,
     "status": "ok",
     "timestamp": 1654470243407,
     "user": {
      "displayName": "Teja E",
      "userId": "07207002669926772768"
     },
     "user_tz": -330
    },
    "id": "VmEy-tPixSm6",
    "outputId": "a9316847-e4f6-4910-dc81-dfd9a549dcaf"
   },
   "outputs": [],
   "source": [
    "#img = cv2.imread('sequential_model.png')\n",
    "#print(\"The Layers in Sequential API are \\n\")\n",
    "#cv2_imshow(img)"
   ]
  },
  {
   "cell_type": "code",
   "execution_count": 14,
   "metadata": {
    "colab": {
     "base_uri": "https://localhost:8080/",
     "height": 637
    },
    "executionInfo": {
     "elapsed": 712,
     "status": "ok",
     "timestamp": 1654470248399,
     "user": {
      "displayName": "Teja E",
      "userId": "07207002669926772768"
     },
     "user_tz": -330
    },
    "id": "8tLVkS1hAjhJ",
    "outputId": "3ad13f7b-17e4-4228-ee7f-06d96ac5ca78"
   },
   "outputs": [
    {
     "name": "stdout",
     "output_type": "stream",
     "text": [
      "Model: \"model_1\"\n",
      "__________________________________________________________________________________________________\n",
      " Layer (type)                   Output Shape         Param #     Connected to                     \n",
      "==================================================================================================\n",
      " input_1 (InputLayer)           [(None, 155, 220, 1  0           []                               \n",
      "                                )]                                                                \n",
      "                                                                                                  \n",
      " input_2 (InputLayer)           [(None, 155, 220, 1  0           []                               \n",
      "                                )]                                                                \n",
      "                                                                                                  \n",
      " sequential_1 (Sequential)      (None, 192)          2737280     ['input_1[0][0]',                \n",
      "                                                                  'input_2[0][0]']                \n",
      "                                                                                                  \n",
      " lambda_1 (Lambda)              (None, 1)            0           ['sequential_1[0][0]',           \n",
      "                                                                  'sequential_1[1][0]']           \n",
      "                                                                                                  \n",
      "==================================================================================================\n",
      "Total params: 2,737,280\n",
      "Trainable params: 2,737,280\n",
      "Non-trainable params: 0\n",
      "__________________________________________________________________________________________________\n",
      "The layers in the SigNet Network Model are \n",
      "\n"
     ]
    },
    {
     "data": {
      "image/png": "[encoded data removed]",
      "text/plain": [
       "<IPython.core.display.Image object>"
      ]
     },
     "execution_count": 14,
     "metadata": {},
     "output_type": "execute_result"
    }
   ],
   "source": [
    "model.summary()\n",
    "print(\"The layers in the SigNet Network Model are \\n\")\n",
    "tf.keras.utils.plot_model(model, to_file=\"base_model.png\", show_shapes=True)"
   ]
  },
  {
   "cell_type": "markdown",
   "metadata": {
    "id": "afdScQbgBl_D"
   },
   "source": [
    "**Training the Model**"
   ]
  },
  {
   "cell_type": "code",
   "execution_count": 15,
   "metadata": {
    "executionInfo": {
     "elapsed": 5,
     "status": "ok",
     "timestamp": 1654470251347,
     "user": {
      "displayName": "Teja E",
      "userId": "07207002669926772768"
     },
     "user_tz": -330
    },
    "id": "ysylRI38EiJ5"
   },
   "outputs": [],
   "source": [
    "from tensorflow.keras.optimizers import Adam\n",
    "\n",
    "adam = tf.keras.optimizers.Adam(learning_rate = 3e-4, epsilon = 1e-08)\n",
    "model.compile(loss=contrastive_loss, optimizer = 'adam', metrics =[accuracy])"
   ]
  },
  {
   "cell_type": "code",
   "execution_count": 16,
   "metadata": {
    "colab": {
     "base_uri": "https://localhost:8080/"
    },
    "executionInfo": {
     "elapsed": 837295,
     "status": "ok",
     "timestamp": 1654471115606,
     "user": {
      "displayName": "Teja E",
      "userId": "07207002669926772768"
     },
     "user_tz": -330
    },
    "id": "pR-cukzFEiGE",
    "outputId": "ce79932a-21b7-4020-ea61-a0bbce962bda"
   },
   "outputs": [
    {
     "name": "stdout",
     "output_type": "stream",
     "text": [
      "Epoch 1/50\n"
     ]
    },
    {
     "name": "stderr",
     "output_type": "stream",
     "text": [
      "2022-06-18 22:00:58.131613: I tensorflow/stream_executor/cuda/cuda_dnn.cc:384] Loaded cuDNN version 8400\n"
     ]
    },
    {
     "name": "stdout",
     "output_type": "stream",
     "text": [
      "24/24 [==============================] - 13s 412ms/step - loss: 0.2752 - accuracy: 0.5189 - val_loss: 0.4068 - val_accuracy: 0.5098\n",
      "Epoch 2/50\n",
      "24/24 [==============================] - 9s 372ms/step - loss: 0.1978 - accuracy: 0.6855 - val_loss: 0.2267 - val_accuracy: 0.6523\n",
      "Epoch 3/50\n",
      "24/24 [==============================] - 9s 366ms/step - loss: 0.1532 - accuracy: 0.7676 - val_loss: 0.1459 - val_accuracy: 0.7832\n",
      "Epoch 4/50\n",
      "24/24 [==============================] - 9s 377ms/step - loss: 0.1272 - accuracy: 0.8125 - val_loss: 0.0955 - val_accuracy: 0.8496\n",
      "Epoch 5/50\n",
      "24/24 [==============================] - 9s 375ms/step - loss: 0.1021 - accuracy: 0.8600 - val_loss: 0.0833 - val_accuracy: 0.8789\n",
      "Epoch 6/50\n",
      "24/24 [==============================] - 9s 379ms/step - loss: 0.1043 - accuracy: 0.8574 - val_loss: 0.0998 - val_accuracy: 0.8477\n",
      "Epoch 7/50\n",
      "24/24 [==============================] - 9s 385ms/step - loss: 0.0863 - accuracy: 0.8783 - val_loss: 0.0668 - val_accuracy: 0.8945\n",
      "Epoch 8/50\n",
      "24/24 [==============================] - 9s 383ms/step - loss: 0.0825 - accuracy: 0.8835 - val_loss: 0.0834 - val_accuracy: 0.8789\n",
      "Epoch 9/50\n",
      "24/24 [==============================] - 9s 385ms/step - loss: 0.0773 - accuracy: 0.9010 - val_loss: 0.0478 - val_accuracy: 0.9316\n",
      "Epoch 10/50\n",
      "24/24 [==============================] - 9s 375ms/step - loss: 0.0748 - accuracy: 0.9043 - val_loss: 0.0679 - val_accuracy: 0.9062\n",
      "Epoch 11/50\n",
      "24/24 [==============================] - 9s 386ms/step - loss: 0.0584 - accuracy: 0.9284 - val_loss: 0.0493 - val_accuracy: 0.9277\n",
      "Epoch 12/50\n",
      "24/24 [==============================] - 9s 376ms/step - loss: 0.0593 - accuracy: 0.9258 - val_loss: 0.0986 - val_accuracy: 0.8574\n",
      "Epoch 13/50\n",
      "24/24 [==============================] - 9s 382ms/step - loss: 0.0594 - accuracy: 0.9310 - val_loss: 0.0715 - val_accuracy: 0.9023\n",
      "Epoch 14/50\n",
      "24/24 [==============================] - 9s 377ms/step - loss: 0.0633 - accuracy: 0.9251 - val_loss: 0.0675 - val_accuracy: 0.9062\n",
      "Epoch 15/50\n",
      "24/24 [==============================] - 9s 392ms/step - loss: 0.0555 - accuracy: 0.9382 - val_loss: 0.0633 - val_accuracy: 0.9121\n",
      "Epoch 16/50\n",
      "24/24 [==============================] - 9s 378ms/step - loss: 0.0533 - accuracy: 0.9284 - val_loss: 0.0578 - val_accuracy: 0.9160\n",
      "Epoch 17/50\n",
      "24/24 [==============================] - 9s 377ms/step - loss: 0.0484 - accuracy: 0.9486 - val_loss: 0.0527 - val_accuracy: 0.9219\n",
      "Epoch 18/50\n",
      "24/24 [==============================] - 9s 384ms/step - loss: 0.0447 - accuracy: 0.9557 - val_loss: 0.0638 - val_accuracy: 0.9062\n",
      "Epoch 19/50\n",
      "24/24 [==============================] - 9s 386ms/step - loss: 0.0386 - accuracy: 0.9642 - val_loss: 0.0596 - val_accuracy: 0.9121\n",
      "Epoch 20/50\n",
      "24/24 [==============================] - 9s 390ms/step - loss: 0.0341 - accuracy: 0.9655 - val_loss: 0.0633 - val_accuracy: 0.9102\n",
      "Epoch 21/50\n",
      "24/24 [==============================] - 9s 385ms/step - loss: 0.0315 - accuracy: 0.9753 - val_loss: 0.0816 - val_accuracy: 0.8809\n",
      "Epoch 22/50\n",
      "24/24 [==============================] - 9s 384ms/step - loss: 0.0253 - accuracy: 0.9818 - val_loss: 0.0742 - val_accuracy: 0.8965\n",
      "Epoch 23/50\n",
      "24/24 [==============================] - 9s 381ms/step - loss: 0.0342 - accuracy: 0.9701 - val_loss: 0.0695 - val_accuracy: 0.8984\n",
      "Epoch 24/50\n",
      "24/24 [==============================] - 9s 386ms/step - loss: 0.0318 - accuracy: 0.9694 - val_loss: 0.0616 - val_accuracy: 0.9141\n",
      "Epoch 25/50\n",
      "24/24 [==============================] - 9s 384ms/step - loss: 0.0311 - accuracy: 0.9714 - val_loss: 0.0651 - val_accuracy: 0.8984\n",
      "Epoch 26/50\n",
      "24/24 [==============================] - 10s 408ms/step - loss: 0.0273 - accuracy: 0.9785 - val_loss: 0.0608 - val_accuracy: 0.9160\n",
      "Epoch 27/50\n",
      "24/24 [==============================] - 9s 378ms/step - loss: 0.0253 - accuracy: 0.9772 - val_loss: 0.0668 - val_accuracy: 0.9023\n",
      "Epoch 28/50\n",
      "24/24 [==============================] - 9s 388ms/step - loss: 0.0265 - accuracy: 0.9753 - val_loss: 0.0674 - val_accuracy: 0.9082\n",
      "Epoch 29/50\n",
      "24/24 [==============================] - 9s 381ms/step - loss: 0.0259 - accuracy: 0.9759 - val_loss: 0.0745 - val_accuracy: 0.8945\n",
      "Epoch 30/50\n",
      "24/24 [==============================] - 9s 382ms/step - loss: 0.0218 - accuracy: 0.9837 - val_loss: 0.0690 - val_accuracy: 0.9062\n",
      "Epoch 31/50\n",
      "24/24 [==============================] - 9s 389ms/step - loss: 0.0203 - accuracy: 0.9863 - val_loss: 0.0698 - val_accuracy: 0.9023\n",
      "Epoch 32/50\n",
      "24/24 [==============================] - 9s 388ms/step - loss: 0.0153 - accuracy: 0.9902 - val_loss: 0.0621 - val_accuracy: 0.9082\n",
      "Epoch 33/50\n",
      "24/24 [==============================] - 9s 385ms/step - loss: 0.0146 - accuracy: 0.9915 - val_loss: 0.0749 - val_accuracy: 0.8867\n",
      "Epoch 34/50\n",
      "24/24 [==============================] - 9s 385ms/step - loss: 0.0151 - accuracy: 0.9902 - val_loss: 0.0819 - val_accuracy: 0.8848\n",
      "Epoch 35/50\n",
      "24/24 [==============================] - 9s 388ms/step - loss: 0.0164 - accuracy: 0.9883 - val_loss: 0.0674 - val_accuracy: 0.9062\n",
      "Epoch 36/50\n",
      "24/24 [==============================] - 9s 385ms/step - loss: 0.0155 - accuracy: 0.9909 - val_loss: 0.0663 - val_accuracy: 0.9102\n",
      "Epoch 37/50\n",
      "24/24 [==============================] - 9s 396ms/step - loss: 0.0156 - accuracy: 0.9896 - val_loss: 0.0732 - val_accuracy: 0.9004\n",
      "Epoch 38/50\n",
      "24/24 [==============================] - 9s 394ms/step - loss: 0.0158 - accuracy: 0.9896 - val_loss: 0.0693 - val_accuracy: 0.9023\n",
      "Epoch 39/50\n",
      "24/24 [==============================] - 9s 384ms/step - loss: 0.0177 - accuracy: 0.9850 - val_loss: 0.0927 - val_accuracy: 0.8691\n",
      "Epoch 40/50\n",
      "24/24 [==============================] - 9s 393ms/step - loss: 0.0216 - accuracy: 0.9857 - val_loss: 0.0615 - val_accuracy: 0.9141\n",
      "Epoch 41/50\n",
      "24/24 [==============================] - 9s 393ms/step - loss: 0.0172 - accuracy: 0.9870 - val_loss: 0.0748 - val_accuracy: 0.8906\n",
      "Epoch 42/50\n",
      "24/24 [==============================] - 9s 386ms/step - loss: 0.0265 - accuracy: 0.9850 - val_loss: 0.0569 - val_accuracy: 0.9199\n",
      "Epoch 43/50\n",
      "24/24 [==============================] - 9s 396ms/step - loss: 0.0172 - accuracy: 0.9857 - val_loss: 0.0815 - val_accuracy: 0.8809\n",
      "Epoch 44/50\n",
      "24/24 [==============================] - 10s 403ms/step - loss: 0.0156 - accuracy: 0.9935 - val_loss: 0.0694 - val_accuracy: 0.9023\n",
      "Epoch 45/50\n",
      "24/24 [==============================] - 10s 426ms/step - loss: 0.0157 - accuracy: 0.9896 - val_loss: 0.0646 - val_accuracy: 0.9062\n",
      "Epoch 46/50\n",
      "24/24 [==============================] - 10s 415ms/step - loss: 0.0157 - accuracy: 0.9863 - val_loss: 0.0633 - val_accuracy: 0.9160\n",
      "Epoch 47/50\n",
      "24/24 [==============================] - 10s 417ms/step - loss: 0.0101 - accuracy: 0.9948 - val_loss: 0.0709 - val_accuracy: 0.9004\n",
      "Epoch 48/50\n",
      "24/24 [==============================] - 10s 424ms/step - loss: 0.0141 - accuracy: 0.9876 - val_loss: 0.0651 - val_accuracy: 0.9062\n",
      "Epoch 49/50\n",
      "24/24 [==============================] - 11s 444ms/step - loss: 0.0130 - accuracy: 0.9902 - val_loss: 0.0704 - val_accuracy: 0.9082\n",
      "Epoch 50/50\n",
      "24/24 [==============================] - 10s 404ms/step - loss: 0.0119 - accuracy: 0.9922 - val_loss: 0.0522 - val_accuracy: 0.9258\n"
     ]
    }
   ],
   "source": [
    "history=model.fit(data_training, validation_data = data_validation, epochs= 50)"
   ]
  },
  {
   "cell_type": "code",
   "execution_count": 17,
   "metadata": {
    "executionInfo": {
     "elapsed": 510,
     "status": "ok",
     "timestamp": 1654471139556,
     "user": {
      "displayName": "Teja E",
      "userId": "07207002669926772768"
     },
     "user_tz": -330
    },
    "id": "iSNW9MAiEiCu"
   },
   "outputs": [],
   "source": [
    "model.save('siamese.h5')"
   ]
  },
  {
   "cell_type": "markdown",
   "metadata": {
    "id": "qYgCXHFyBurd"
   },
   "source": [
    "**Plotting graphs for Accuracy and Loss**"
   ]
  },
  {
   "cell_type": "code",
   "execution_count": 18,
   "metadata": {
    "colab": {
     "base_uri": "https://localhost:8080/",
     "height": 283
    },
    "executionInfo": {
     "elapsed": 1566,
     "status": "ok",
     "timestamp": 1654471143270,
     "user": {
      "displayName": "Teja E",
      "userId": "07207002669926772768"
     },
     "user_tz": -330
    },
    "id": "9lPBbdeHEh9S",
    "outputId": "75aea4f7-2724-4a7a-ee09-679ecd93c259"
   },
   "outputs": [
    {
     "data": {
      "image/png": "[encoded data removed]",
      "text/plain": [
       "<Figure size 432x288 with 1 Axes>"
      ]
     },
     "metadata": {
      "needs_background": "light"
     },
     "output_type": "display_data"
    }
   ],
   "source": [
    "import matplotlib.pyplot as plt\n",
    "plt.plot(history.history['accuracy'], label='accuracy')\n",
    "plt.plot(history.history['val_accuracy'], label = 'val_accuracy')\n",
    "plt.xlabel('Epoch')\n",
    "plt.ylabel('Accuracy')\n",
    "plt.ylim([0.5, 1])\n",
    "plt.legend(loc='lower right')\n",
    "plt.savefig(\"accuracy_plot.png\")"
   ]
  },
  {
   "cell_type": "code",
   "execution_count": 19,
   "metadata": {
    "colab": {
     "base_uri": "https://localhost:8080/",
     "height": 279
    },
    "executionInfo": {
     "elapsed": 535,
     "status": "ok",
     "timestamp": 1654471145519,
     "user": {
      "displayName": "Teja E",
      "userId": "07207002669926772768"
     },
     "user_tz": -330
    },
    "id": "tYCoAF5gwIRR",
    "outputId": "04df6ec5-d6af-4351-d593-842b05905cb5"
   },
   "outputs": [
    {
     "data": {
      "image/png": "[encoded data removed]",
      "text/plain": [
       "<Figure size 432x288 with 1 Axes>"
      ]
     },
     "metadata": {
      "needs_background": "light"
     },
     "output_type": "display_data"
    }
   ],
   "source": [
    "import matplotlib.pyplot as plt\n",
    "\n",
    "plt.plot(history.history['loss'], label='loss')\n",
    "plt.plot(history.history['val_loss'], label = 'val_loss')\n",
    "plt.xlabel('Epoch')\n",
    "plt.ylabel('Loss')\n",
    "plt.legend(loc='lower right')\n",
    "plt.savefig(\"loss_plot.png\")"
   ]
  },
  {
   "cell_type": "markdown",
   "metadata": {
    "id": "Wu6oo9JBB5Mg"
   },
   "source": [
    "**Evaluating the validation accuracy and Validation loss**"
   ]
  },
  {
   "cell_type": "code",
   "execution_count": 20,
   "metadata": {
    "colab": {
     "base_uri": "https://localhost:8080/"
    },
    "executionInfo": {
     "elapsed": 12553,
     "status": "ok",
     "timestamp": 1654471164675,
     "user": {
      "displayName": "Teja E",
      "userId": "07207002669926772768"
     },
     "user_tz": -330
    },
    "id": "aYE5iN46EhwW",
    "outputId": "d31cf67b-d401-48ce-8644-1f51b47cf555"
   },
   "outputs": [
    {
     "name": "stdout",
     "output_type": "stream",
     "text": [
      "8/8 [==============================] - 2s 288ms/step - loss: 0.0522 - accuracy: 0.9258\n"
     ]
    }
   ],
   "source": [
    "validation_loss, validation_acc = model.evaluate(data_validation)"
   ]
  },
  {
   "cell_type": "code",
   "execution_count": 21,
   "metadata": {
    "colab": {
     "base_uri": "https://localhost:8080/"
    },
    "executionInfo": {
     "elapsed": 30,
     "status": "ok",
     "timestamp": 1654471164676,
     "user": {
      "displayName": "Teja E",
      "userId": "07207002669926772768"
     },
     "user_tz": -330
    },
    "id": "o3TWcXBcPC0d",
    "outputId": "993bd394-e671-45c7-cbc0-3865e7be04af"
   },
   "outputs": [
    {
     "name": "stdout",
     "output_type": "stream",
     "text": [
      "The validation loss is =  0.05222358554601669\n"
     ]
    }
   ],
   "source": [
    "print(\"The validation loss is = \",validation_loss)"
   ]
  },
  {
   "cell_type": "code",
   "execution_count": 22,
   "metadata": {
    "colab": {
     "base_uri": "https://localhost:8080/"
    },
    "executionInfo": {
     "elapsed": 24,
     "status": "ok",
     "timestamp": 1654471164677,
     "user": {
      "displayName": "Teja E",
      "userId": "07207002669926772768"
     },
     "user_tz": -330
    },
    "id": "FE4xJVjLPCvF",
    "outputId": "55002e4a-3786-440d-abf5-fd4b2923968b"
   },
   "outputs": [
    {
     "name": "stdout",
     "output_type": "stream",
     "text": [
      "The validation accuracy is =  0.92578125\n"
     ]
    }
   ],
   "source": [
    "print(\"The validation accuracy is = \",validation_acc)"
   ]
  },
  {
   "cell_type": "markdown",
   "metadata": {
    "id": "Wu6oo9JBB5Mg"
   },
   "source": [
    "**Evaluating the Test accuracy and Test loss**"
   ]
  },
  {
   "cell_type": "code",
   "execution_count": 23,
   "metadata": {},
   "outputs": [
    {
     "name": "stdout",
     "output_type": "stream",
     "text": [
      "8/8 [==============================] - 2s 294ms/step - loss: 0.0579 - accuracy: 0.9238\n"
     ]
    }
   ],
   "source": [
    "data_test = generate(test_set,batch_size,dimension)\n",
    "\n",
    "test_loss, test_acc = model.evaluate(data_test)"
   ]
  },
  {
   "cell_type": "code",
   "execution_count": 24,
   "metadata": {},
   "outputs": [
    {
     "name": "stdout",
     "output_type": "stream",
     "text": [
      "The testing loss is =  0.057937994599342346\n"
     ]
    }
   ],
   "source": [
    "print(\"The testing loss is = \",test_loss)"
   ]
  },
  {
   "cell_type": "code",
   "execution_count": 25,
   "metadata": {},
   "outputs": [
    {
     "name": "stdout",
     "output_type": "stream",
     "text": [
      "The testing accuracy is =  0.923828125\n"
     ]
    }
   ],
   "source": [
    "print(\"The testing accuracy is = \",test_acc)"
   ]
  },
  {
   "cell_type": "code",
   "execution_count": 26,
   "metadata": {
    "colab": {
     "base_uri": "https://localhost:8080/"
    },
    "executionInfo": {
     "elapsed": 16629,
     "status": "ok",
     "timestamp": 1654471291536,
     "user": {
      "displayName": "Teja E",
      "userId": "07207002669926772768"
     },
     "user_tz": -330
    },
    "id": "vYUkFaWwb0NJ",
    "outputId": "91878ada-6707-4425-f6b9-815ec3c4e89a"
   },
   "outputs": [
    {
     "name": "stdout",
     "output_type": "stream",
     "text": [
      "Original Signature Details :\n",
      "\n"
     ]
    },
    {
     "name": "stdin",
     "output_type": "stream",
     "text": [
      "Enter signer number(1 to 55) :  25\n",
      "Enter signature Sample number for signer number 25(1 to 24) :  22\n"
     ]
    },
    {
     "name": "stdout",
     "output_type": "stream",
     "text": [
      "\n",
      " Test Signature Details : \n",
      "\n"
     ]
    },
    {
     "name": "stdin",
     "output_type": "stream",
     "text": [
      "Enter forg for forged and org for genuine signature :  forg\n",
      "Enter signature number for signer number 25(1 to 24) :  24\n"
     ]
    },
    {
     "name": "stdout",
     "output_type": "stream",
     "text": [
      "1/1 [==============================] - 0s 378ms/step\n",
      "[[1.]]\n",
      "The second signature is forged \n",
      "\n"
     ]
    }
   ],
   "source": [
    "print('Original Signature Details :\\n')\n",
    "s = input('Enter signer number(1 to 55) : ')\n",
    "s1 = input('Enter signature Sample number for signer number '+s+'(1 to 24) : ')\n",
    "\n",
    "print('\\n Test Signature Details : \\n')\n",
    "type=input('Enter forg for forged and org for genuine signature : ')\n",
    "s2=input('Enter signature number for signer number '+s+'(1 to 24) : ') \n",
    "\n",
    "if(type=='forg'):\n",
    "  st='forgeries'\n",
    "elif(type=='org'):\n",
    "  st='original'\n",
    "\n",
    "inp1 = cv2.imread('signatures/full_org/original_'+s+'_'+s1+'.png')\n",
    "inp2 = cv2.imread('signatures/full_'+type+'/'+st+'_'+s+'_'+s2+'.png')\n",
    "\n",
    "inp1 = sig_process(inp1)\n",
    "inp2 = sig_process(inp2)\n",
    "\n",
    "inp1 = np.expand_dims(inp1,axis=0)\n",
    "inp2 = np.expand_dims(inp2,axis=0)\n",
    "\n",
    "inp_pred = model.predict([inp1,inp2])\n",
    "inp_pred = np.round(inp_pred)\n",
    "\n",
    "print(inp_pred)\n",
    "\n",
    "if (inp_pred[0][0] == 0):\n",
    "  print('The second signature is genuine \\n')\n",
    "elif(inp_pred[0][0]>=1):\n",
    "  print('The second signature is forged \\n')\n"
   ]
  },
  {
   "cell_type": "code",
   "execution_count": null,
   "metadata": {},
   "outputs": [],
   "source": []
  }
 ],
 "metadata": {
  "accelerator": "GPU",
  "colab": {
   "authorship_tag": "ABX9TyOCneuxGeNyU0epEckbMowx",
   "collapsed_sections": [],
   "name": "ish_test.ipynb",
   "provenance": [
    {
     "file_id": "1iGiP1HgTvy51Hjjo4WsJwkD8Bfyh0aSF",
     "timestamp": 1654450211168
    }
   ]
  },
  "kernelspec": {
   "display_name": "Python 3 (ipykernel)",
   "language": "python",
   "name": "python3"
  },
  "language_info": {
   "codemirror_mode": {
    "name": "ipython",
    "version": 3
   },
   "file_extension": ".py",
   "mimetype": "text/x-python",
   "name": "python",
   "nbconvert_exporter": "python",
   "pygments_lexer": "ipython3",
   "version": "3.10.4"
  }
 },
 "nbformat": 4,
 "nbformat_minor": 4
}
